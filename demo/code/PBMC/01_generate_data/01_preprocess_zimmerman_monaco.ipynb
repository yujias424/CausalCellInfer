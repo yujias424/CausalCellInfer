{
 "cells": [
  {
   "cell_type": "code",
   "execution_count": 2,
   "metadata": {},
   "outputs": [
    {
     "name": "stderr",
     "output_type": "stream",
     "text": [
      "/home/yujia/miniconda3/envs/pytorch/lib/python3.10/site-packages/tqdm/auto.py:21: TqdmWarning: IProgress not found. Please update jupyter and ipywidgets. See https://ipywidgets.readthedocs.io/en/stable/user_install.html\n",
      "  from .autonotebook import tqdm as notebook_tqdm\n"
     ]
    }
   ],
   "source": [
    "import pandas as pd\n",
    "import numpy as np\n",
    "import scanpy as sc\n",
    "\n",
    "import anndata\n",
    "import sys\n",
    "import os"
   ]
  },
  {
   "cell_type": "markdown",
   "metadata": {},
   "source": [
    "### Processing the Zimmerman PBMC dataset"
   ]
  },
  {
   "cell_type": "code",
   "execution_count": 8,
   "metadata": {},
   "outputs": [],
   "source": [
    "zimmerman_X = pd.read_csv(\"/home/yujia/project/2023-04-24-Cell-decomposition/cell_decomposition/dat/09_pbmc_data/bulk_dat/Zimmerman/zimmerman_pbmc.txt\", sep = \"\\t\")\n",
    "zimmerman_X.drop([\"Unnamed: 0\"], axis = 1, inplace=True)\n",
    "zimmerman_prop = pd.read_csv(\"/home/yujia/project/2023-04-24-Cell-decomposition/cell_decomposition/dat/09_pbmc_data/bulk_dat/Zimmerman/zimmerman_pbmc_truth.txt\", sep = \"\\t\")\n",
    "zimmerman_prop.drop([\"index\"], axis = 1, inplace=True)\n",
    "zimmerman_prop.columns = [\"Monocytes\", \"Unknown\", \"CD4 T cells\", \"B cells\", \"NK cells\",\t\"CD8 T cells\"]\n",
    "zimmerman_prop = zimmerman_prop.loc[:, [\"Monocytes\", \"CD4 T cells\", \"B cells\", \"NK cells\", \"CD8 T cells\"]]\n",
    "zimmerman_prop = zimmerman_prop.div(zimmerman_prop.sum(axis=1), axis=0)\n",
    "zimmerman_var = pd.DataFrame({\"Gene\":zimmerman_X.columns.to_list()})\n",
    "zimmerman_var.index = zimmerman_X.columns.to_list()"
   ]
  },
  {
   "cell_type": "code",
   "execution_count": 9,
   "metadata": {},
   "outputs": [
    {
     "name": "stderr",
     "output_type": "stream",
     "text": [
      "/home/yujia/miniconda3/envs/pytorch/lib/python3.10/site-packages/anndata/_core/aligned_df.py:67: ImplicitModificationWarning: Transforming to str index.\n",
      "  warnings.warn(\"Transforming to str index.\", ImplicitModificationWarning)\n"
     ]
    }
   ],
   "source": [
    "zimmerman = anndata.AnnData(zimmerman_X, obs = zimmerman_prop, var = zimmerman_var)"
   ]
  },
  {
   "cell_type": "code",
   "execution_count": 10,
   "metadata": {},
   "outputs": [],
   "source": [
    "zimmerman.write_h5ad(\"/home/yujia/project/2023-04-24-Cell-decomposition/cell_decomposition/dat/09_pbmc_data/01_preprocess_h5ad/sdy_real_5ct.h5ad\")"
   ]
  },
  {
   "cell_type": "markdown",
   "metadata": {},
   "source": [
    "### Processing the Monaco PBMC dataset"
   ]
  },
  {
   "cell_type": "code",
   "execution_count": 12,
   "metadata": {},
   "outputs": [],
   "source": [
    "monaco_X = pd.read_csv(\"/home/yujia/project/2023-04-24-Cell-decomposition/cell_decomposition/dat/09_pbmc_data/bulk_dat/Monaco/monaco_pbmc.txt\", index_col=0, sep=\"\\t\").T\n",
    "monaco_prop = pd.read_csv(\"/home/yujia/project/2023-04-24-Cell-decomposition/cell_decomposition/dat/09_pbmc_data/bulk_dat/Monaco/monaco_pbmc_truth.csv\")\n",
    "monaco_prop.index = monaco_prop[\"Unnamed: 0\"]\n",
    "monaco_prop.index.name = None\n",
    "monaco_prop.drop([\"Unnamed: 0\"], axis = 1, inplace=True)\n",
    "monaco_prop.columns = [\"Monocytes\", \"Unknown\", \"CD4 T cells\", \"B cells\", \"NK cells\", \"CD8 T cells\"]\n",
    "monaco_prop = monaco_prop.loc[:, [\"Monocytes\", \"CD4 T cells\", \"B cells\", \"NK cells\", \"CD8 T cells\"]]\n",
    "monaco_prop = monaco_prop.div(monaco_prop.sum(axis=1), axis=0)\n",
    "monaco_var = pd.DataFrame({\"Gene\":monaco_X.columns.to_list()})\n",
    "monaco_var.index = monaco_X.columns.to_list()"
   ]
  },
  {
   "cell_type": "code",
   "execution_count": 13,
   "metadata": {},
   "outputs": [],
   "source": [
    "monaco = anndata.AnnData(monaco_X, obs = monaco_prop, var = monaco_var)"
   ]
  },
  {
   "cell_type": "code",
   "execution_count": 15,
   "metadata": {},
   "outputs": [],
   "source": [
    "sc.pp.normalize_total(monaco, target_sum=1e6)"
   ]
  },
  {
   "cell_type": "code",
   "execution_count": 32,
   "metadata": {},
   "outputs": [],
   "source": [
    "monaco.write_h5ad(\"/home/yujia/project/2023-04-24-Cell-decomposition/cell_decomposition/dat/09_pbmc_data/01_preprocess_h5ad/monaco_real_5ct.h5ad\")"
   ]
  }
 ],
 "metadata": {
  "kernelspec": {
   "display_name": "pytorch",
   "language": "python",
   "name": "python3"
  },
  "language_info": {
   "codemirror_mode": {
    "name": "ipython",
    "version": 3
   },
   "file_extension": ".py",
   "mimetype": "text/x-python",
   "name": "python",
   "nbconvert_exporter": "python",
   "pygments_lexer": "ipython3",
   "version": "3.10.14"
  }
 },
 "nbformat": 4,
 "nbformat_minor": 2
}
