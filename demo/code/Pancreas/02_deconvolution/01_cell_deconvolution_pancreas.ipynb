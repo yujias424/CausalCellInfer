{
 "cells": [
  {
   "cell_type": "code",
   "execution_count": null,
   "metadata": {},
   "outputs": [],
   "source": [
    "import pandas as pd\n",
    "import numpy as np\n",
    "import scanpy as sc\n",
    "\n",
    "import anndata\n",
    "import sys\n",
    "import os\n",
    "\n",
    "from numpy.random import choice\n",
    "from tqdm import tqdm\n",
    "\n",
    "sys.path.append('/mnt/md0/yujia/project/github_package/CausalCellInfer/bin/cell_deconvolution/')\n",
    "sys.path.append('/mnt/md0/yujia/project/github_package/CausalCellInfer/bin/cell_deconvolution/scaden_py/')\n",
    "from simulation_tape import generate_simulated_data_tape\n",
    "from simulation_scaden import generate_simulated_data_scaden\n",
    "from deconvolution import ScadenDeconvolution\n"
   ]
  },
  {
   "cell_type": "code",
   "execution_count": null,
   "metadata": {},
   "outputs": [],
   "source": [
    "sc_data = anndata.read_h5ad(\"/mnt/md0/yujia/project/github_package/CausalCellInfer/demo/dat/sc_dat/Pancreas/diabetes_training.h5ad\")\n",
    "# sc_data.obs[\"celltype\"] = sc_data.obs[\"cell_type\"].to_list()\n",
    "# sc_data = sc_data[~sc_data.obs['cell_type'].isin([\"Megakaryocytes\", \"Dendritic Cells\"])]\n",
    "# # sc_data.obs[\"celltype\"][sc_data.obs[\"celltype\"] == \"Dendritic Cells\"] = \"Unknown\"\n",
    "# sc_data_cp = sc_data.copy()\n",
    "# print(sc_data_cp.obs[\"celltype\"].unique())"
   ]
  },
  {
   "cell_type": "code",
   "execution_count": null,
   "metadata": {},
   "outputs": [],
   "source": [
    "bulk = pd.read_csv(\"/mnt/md0/yujia/project/github_package/CausalCellInfer/demo/dat/bulk/Pancreas/GSE50244_Genes_counts_TMM_NormLength_atLeastMAF5_expressed.txt.gz\", index_col=0, sep=\"\\t\").T\n",
    "\n",
    "common_genes = pd.read_csv(\"/mnt/md0/yujia/project/github_package/CausalCellInfer/demo/dat/marker_genes/Pancreas/common_genes.csv\")[\"gene\"].to_list()\n",
    "all_genes = pd.read_csv(\"/mnt/md0/yujia/project/github_package/CausalCellInfer/demo/dat/marker_genes/Pancreas/all_genes.csv\")[\"gene\"].to_list()"
   ]
  },
  {
   "cell_type": "code",
   "execution_count": 1,
   "metadata": {},
   "outputs": [
    {
     "ename": "NameError",
     "evalue": "name 'bulk' is not defined",
     "output_type": "error",
     "traceback": [
      "\u001b[0;31m---------------------------------------------------------------------------\u001b[0m",
      "\u001b[0;31mNameError\u001b[0m                                 Traceback (most recent call last)",
      "Cell \u001b[0;32mIn[1], line 1\u001b[0m\n\u001b[0;32m----> 1\u001b[0m \u001b[43mbulk\u001b[49m\n",
      "\u001b[0;31mNameError\u001b[0m: name 'bulk' is not defined"
     ]
    }
   ],
   "source": [
    "bulk"
   ]
  },
  {
   "cell_type": "code",
   "execution_count": 10,
   "metadata": {},
   "outputs": [],
   "source": [
    "bulk.to_csv(\"/mnt/md0/yujia/project/github_package/CausalCellInfer/demo/dat/bulk/Pancreas/GSE50244_example.txt.gz\", sep = \"\\t\")"
   ]
  },
  {
   "cell_type": "code",
   "execution_count": null,
   "metadata": {},
   "outputs": [],
   "source": [
    "bulk = pd.read_csv(\"/mnt/md0/yujia/project/github_package/CausalCellInfer/demo/dat/bulk/Pancreas/GSE50244_example.txt.gz\", index_col=0, sep=\",\").T\n"
   ]
  },
  {
   "cell_type": "code",
   "execution_count": null,
   "metadata": {},
   "outputs": [],
   "source": [
    "bulk"
   ]
  },
  {
   "cell_type": "code",
   "execution_count": null,
   "metadata": {},
   "outputs": [],
   "source": []
  },
  {
   "cell_type": "code",
   "execution_count": null,
   "metadata": {},
   "outputs": [],
   "source": []
  },
  {
   "cell_type": "code",
   "execution_count": null,
   "metadata": {},
   "outputs": [],
   "source": [
    "pred_Pancreas_common = ScadenDeconvolution(sc_data, bulk,\n",
    "                                         generate_sim_method = \"tape\", add_noise = False, cut_variance= True, cell_type = \"CellType\",\n",
    "                                         markergene = common_genes)\n",
    "                "
   ]
  },
  {
   "cell_type": "code",
   "execution_count": null,
   "metadata": {},
   "outputs": [],
   "source": [
    "pred_Pancreas_all = ScadenDeconvolution(sc_data, bulk,\n",
    "                                         generate_sim_method = \"tape\", add_noise = False, cut_variance= True, cell_type = \"CellType\",\n",
    "                                         markergene = all_genes)"
   ]
  },
  {
   "cell_type": "code",
   "execution_count": null,
   "metadata": {},
   "outputs": [],
   "source": [
    "# save results\n",
    "pred_Pancreas_all.to_csv(\"/mnt/md0/yujia/project/github_package/CausalCellInfer/demo/res/Pancreas/scaden_all.tsv\", sep = \"\\t\")\n",
    "pred_Pancreas_common.to_csv(\"/mnt/md0/yujia/project/github_package/CausalCellInfer/demo/res/Pancreas/scaden_common.tsv\", sep = \"\\t\")\n"
   ]
  },
  {
   "cell_type": "code",
   "execution_count": null,
   "metadata": {},
   "outputs": [],
   "source": []
  }
 ],
 "metadata": {
  "kernelspec": {
   "display_name": "pytorch",
   "language": "python",
   "name": "python3"
  },
  "language_info": {
   "codemirror_mode": {
    "name": "ipython",
    "version": 3
   },
   "file_extension": ".py",
   "mimetype": "text/x-python",
   "name": "python",
   "nbconvert_exporter": "python",
   "pygments_lexer": "ipython3",
   "version": "3.10.13"
  }
 },
 "nbformat": 4,
 "nbformat_minor": 2
}
